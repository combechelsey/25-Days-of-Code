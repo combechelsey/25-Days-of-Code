{
 "cells": [
  {
   "cell_type": "markdown",
   "id": "6150f1fc-f234-4c85-bd69-2dc8e4b5fb62",
   "metadata": {},
   "source": []
  },
  {
   "cell_type": "markdown",
   "id": "a2c2cd22-0129-4701-a9c2-ff7ae5e1e0df",
   "metadata": {},
   "source": [
    "--- Day 1: The Tyranny of the Rocket Equation ---\r\n",
    "Santa has become stranded at the edge of the Solar System while delivering presents to other planets! To accurately calculate his position in space, safely align his warp drive, and return to Earth in time to save Christmas, he needs you to bring him measurements from fifty stars.\r\n",
    "\r\n",
    "Collect stars by solving puzzles. Two puzzles will be made available on each day in the Advent calendar; the second puzzle is unlocked when you complete the first. Each puzzle grants one star. Good luck!\r\n",
    "\r\n",
    "The Elves quickly load you into a spacecraft and prepare to launch.\r\n",
    "\r\n",
    "At the first Go / No Go poll, every Elf is Go until the Fuel Counter-Upper. They haven't determined the amount of fuel requiredThe fyet.\r\n",
    "\r\n",
    "Fuel required to launch a given module is based on its mass. Specifically, to find the fuel required for a module, take its mass, divide by three, round down, and subtract 2.\r\n",
    "\r\n",
    "For example:\r\n",
    "\r\n",
    "For a mass of 12, divide by 3 and round down to get 4, then subtract 2 to get 2.\r\n",
    "For a mass of 14, dividing by 3 and rounding down still yields 4, so the fuel required is also 2.\r\n",
    "For a mass of 1969, the fuel required is 654.\r\n",
    "For a mass of 100756, the fuel required is 33583.\r\n",
    "The Fuel Counter-Upper needs to know the total fuel requirement. To find it, individually calculate the fuel needed for the mass of each module (your puzzle input), then add together all the fuel values.\r\n",
    "\r\n",
    "What is the sum of the fuel requirements for all of the modules on your spacecraft?\r\n",
    "\r\n",
    "To begin, get your puzzle input."
   ]
  },
  {
   "cell_type": "code",
   "execution_count": 1,
   "id": "fe7e5988-3036-4063-987e-2dffeb52c54b",
   "metadata": {},
   "outputs": [],
   "source": [
    "import pandas as pd\n",
    "import numpy as np"
   ]
  },
  {
   "cell_type": "code",
   "execution_count": 2,
   "id": "af9782a1-14b5-4062-952e-52eb8f4b944b",
   "metadata": {},
   "outputs": [],
   "source": [
    "def fuel_calc(mass):\n",
    "    return (mass // 3) - 2\n",
    "    "
   ]
  },
  {
   "cell_type": "code",
   "execution_count": 3,
   "id": "50b7e6a8-6e8d-417e-825b-acc7b43e397a",
   "metadata": {},
   "outputs": [],
   "source": [
    "def fuel_counter(df, mass_col=\"mass\", fuel_col=\"fuel\", test_id = \"p1\"):\n",
    "    df[fuel_col] = df[mass_col].apply(lambda x: fuel_calc(x))\n",
    "    return df[fuel_col].sum()\n",
    "    "
   ]
  },
  {
   "cell_type": "code",
   "execution_count": 4,
   "id": "b9087f58-be71-4f5e-824b-9ca2c3786574",
   "metadata": {},
   "outputs": [
    {
     "data": {
      "text/html": [
       "<div>\n",
       "<style scoped>\n",
       "    .dataframe tbody tr th:only-of-type {\n",
       "        vertical-align: middle;\n",
       "    }\n",
       "\n",
       "    .dataframe tbody tr th {\n",
       "        vertical-align: top;\n",
       "    }\n",
       "\n",
       "    .dataframe thead th {\n",
       "        text-align: right;\n",
       "    }\n",
       "</style>\n",
       "<table border=\"1\" class=\"dataframe\">\n",
       "  <thead>\n",
       "    <tr style=\"text-align: right;\">\n",
       "      <th></th>\n",
       "      <th>mass</th>\n",
       "    </tr>\n",
       "  </thead>\n",
       "  <tbody>\n",
       "    <tr>\n",
       "      <th>0</th>\n",
       "      <td>12</td>\n",
       "    </tr>\n",
       "    <tr>\n",
       "      <th>1</th>\n",
       "      <td>14</td>\n",
       "    </tr>\n",
       "    <tr>\n",
       "      <th>2</th>\n",
       "      <td>1969</td>\n",
       "    </tr>\n",
       "    <tr>\n",
       "      <th>3</th>\n",
       "      <td>100756</td>\n",
       "    </tr>\n",
       "  </tbody>\n",
       "</table>\n",
       "</div>"
      ],
      "text/plain": [
       "     mass\n",
       "0      12\n",
       "1      14\n",
       "2    1969\n",
       "3  100756"
      ]
     },
     "execution_count": 4,
     "metadata": {},
     "output_type": "execute_result"
    }
   ],
   "source": [
    "test_df = pd.DataFrame([12, 14, 1969, 100756], columns=['mass'])\n",
    "test_df"
   ]
  },
  {
   "cell_type": "code",
   "execution_count": 5,
   "id": "c6a30bec-ba65-462d-8dc2-923fc9fdfc22",
   "metadata": {},
   "outputs": [
    {
     "data": {
      "text/html": [
       "<div>\n",
       "<style scoped>\n",
       "    .dataframe tbody tr th:only-of-type {\n",
       "        vertical-align: middle;\n",
       "    }\n",
       "\n",
       "    .dataframe tbody tr th {\n",
       "        vertical-align: top;\n",
       "    }\n",
       "\n",
       "    .dataframe thead th {\n",
       "        text-align: right;\n",
       "    }\n",
       "</style>\n",
       "<table border=\"1\" class=\"dataframe\">\n",
       "  <thead>\n",
       "    <tr style=\"text-align: right;\">\n",
       "      <th></th>\n",
       "      <th>mass</th>\n",
       "    </tr>\n",
       "  </thead>\n",
       "  <tbody>\n",
       "    <tr>\n",
       "      <th>0</th>\n",
       "      <td>2</td>\n",
       "    </tr>\n",
       "    <tr>\n",
       "      <th>1</th>\n",
       "      <td>2</td>\n",
       "    </tr>\n",
       "    <tr>\n",
       "      <th>2</th>\n",
       "      <td>654</td>\n",
       "    </tr>\n",
       "    <tr>\n",
       "      <th>3</th>\n",
       "      <td>33583</td>\n",
       "    </tr>\n",
       "  </tbody>\n",
       "</table>\n",
       "</div>"
      ],
      "text/plain": [
       "    mass\n",
       "0      2\n",
       "1      2\n",
       "2    654\n",
       "3  33583"
      ]
     },
     "execution_count": 5,
     "metadata": {},
     "output_type": "execute_result"
    }
   ],
   "source": [
    "fuel_calc(test_df)"
   ]
  },
  {
   "cell_type": "code",
   "execution_count": 6,
   "id": "7dac55b5-fbdd-4d5d-996a-6401b2de2886",
   "metadata": {},
   "outputs": [
    {
     "data": {
      "text/plain": [
       "34241"
      ]
     },
     "execution_count": 6,
     "metadata": {},
     "output_type": "execute_result"
    }
   ],
   "source": [
    "fuel_counter(test_df)"
   ]
  },
  {
   "cell_type": "code",
   "execution_count": 7,
   "id": "e35836d2-dff4-4fc6-84e7-92830c797a3b",
   "metadata": {},
   "outputs": [
    {
     "data": {
      "text/html": [
       "<div>\n",
       "<style scoped>\n",
       "    .dataframe tbody tr th:only-of-type {\n",
       "        vertical-align: middle;\n",
       "    }\n",
       "\n",
       "    .dataframe tbody tr th {\n",
       "        vertical-align: top;\n",
       "    }\n",
       "\n",
       "    .dataframe thead th {\n",
       "        text-align: right;\n",
       "    }\n",
       "</style>\n",
       "<table border=\"1\" class=\"dataframe\">\n",
       "  <thead>\n",
       "    <tr style=\"text-align: right;\">\n",
       "      <th></th>\n",
       "      <th>mass</th>\n",
       "    </tr>\n",
       "  </thead>\n",
       "  <tbody>\n",
       "    <tr>\n",
       "      <th>0</th>\n",
       "      <td>88062</td>\n",
       "    </tr>\n",
       "    <tr>\n",
       "      <th>1</th>\n",
       "      <td>147838</td>\n",
       "    </tr>\n",
       "    <tr>\n",
       "      <th>2</th>\n",
       "      <td>73346</td>\n",
       "    </tr>\n",
       "    <tr>\n",
       "      <th>3</th>\n",
       "      <td>80732</td>\n",
       "    </tr>\n",
       "    <tr>\n",
       "      <th>4</th>\n",
       "      <td>89182</td>\n",
       "    </tr>\n",
       "  </tbody>\n",
       "</table>\n",
       "</div>"
      ],
      "text/plain": [
       "     mass\n",
       "0   88062\n",
       "1  147838\n",
       "2   73346\n",
       "3   80732\n",
       "4   89182"
      ]
     },
     "execution_count": 7,
     "metadata": {},
     "output_type": "execute_result"
    }
   ],
   "source": [
    "values = [\n",
    "    88062, 147838, 73346, 80732, 89182, 86798, 145656, 53825, 79515, 78250,\n",
    "    143033, 53680, 89366, 123255, 74974, 65373, 107733, 118266, 50726, 87810,\n",
    "    104355, 85331, 109624, 54282, 107472, 119291, 128702, 81132, 94609, 105929,\n",
    "    63918, 113360, 66932, 145080, 132130, 63858, 104334, 140635, 67642, 111552,\n",
    "    93446, 59263, 133164, 119788, 97327, 77379, 144054, 110747, 89394, 123533,\n",
    "    86026, 124422, 108855, 125000, 99270, 55789, 146945, 103156, 141044, 94238,\n",
    "    136833, 54370, 69178, 142349, 72239, 149992, 50901, 112759, 105467, 90841,\n",
    "    55693, 52532, 92343, 134889, 143351, 123359, 134972, 59986, 85415, 136521,\n",
    "    81581, 131078, 131201, 56194, 142135, 69982, 140667, 110013, 67772, 108135,\n",
    "    92591, 87200, 78189, 73407, 145395, 131869, 143480, 82068, 82423, 110819\n",
    "]\n",
    "\n",
    "# Create a DataFrame\n",
    "df = pd.DataFrame(values, columns=[\"mass\"])\n",
    "df.head()"
   ]
  },
  {
   "cell_type": "code",
   "execution_count": 8,
   "id": "9fd9be87-9d0b-4b35-8a9f-dbdc912c1095",
   "metadata": {},
   "outputs": [
    {
     "data": {
      "text/html": [
       "<div>\n",
       "<style scoped>\n",
       "    .dataframe tbody tr th:only-of-type {\n",
       "        vertical-align: middle;\n",
       "    }\n",
       "\n",
       "    .dataframe tbody tr th {\n",
       "        vertical-align: top;\n",
       "    }\n",
       "\n",
       "    .dataframe thead th {\n",
       "        text-align: right;\n",
       "    }\n",
       "</style>\n",
       "<table border=\"1\" class=\"dataframe\">\n",
       "  <thead>\n",
       "    <tr style=\"text-align: right;\">\n",
       "      <th></th>\n",
       "      <th>mass</th>\n",
       "    </tr>\n",
       "  </thead>\n",
       "  <tbody>\n",
       "    <tr>\n",
       "      <th>0</th>\n",
       "      <td>88062</td>\n",
       "    </tr>\n",
       "    <tr>\n",
       "      <th>1</th>\n",
       "      <td>147838</td>\n",
       "    </tr>\n",
       "    <tr>\n",
       "      <th>2</th>\n",
       "      <td>73346</td>\n",
       "    </tr>\n",
       "    <tr>\n",
       "      <th>3</th>\n",
       "      <td>80732</td>\n",
       "    </tr>\n",
       "    <tr>\n",
       "      <th>4</th>\n",
       "      <td>89182</td>\n",
       "    </tr>\n",
       "  </tbody>\n",
       "</table>\n",
       "</div>"
      ],
      "text/plain": [
       "     mass\n",
       "0   88062\n",
       "1  147838\n",
       "2   73346\n",
       "3   80732\n",
       "4   89182"
      ]
     },
     "execution_count": 8,
     "metadata": {},
     "output_type": "execute_result"
    }
   ],
   "source": [
    "fuel_calc(df)\n",
    "df.head()"
   ]
  },
  {
   "cell_type": "markdown",
   "id": "253ef4f5-4d4f-4dd4-988e-909cae070236",
   "metadata": {},
   "source": [
    "**What is the sum of the fuel requirements for all of the modules on your spacecraft?**"
   ]
  },
  {
   "cell_type": "code",
   "execution_count": 9,
   "id": "cca541a1-1e98-44d2-9d2a-a2045f2b51e1",
   "metadata": {},
   "outputs": [
    {
     "data": {
      "text/plain": [
       "3346639"
      ]
     },
     "execution_count": 9,
     "metadata": {},
     "output_type": "execute_result"
    }
   ],
   "source": [
    "fuel_counter(df)"
   ]
  },
  {
   "cell_type": "markdown",
   "id": "572b972b-41b0-4e20-b1a4-95fbf037e7be",
   "metadata": {},
   "source": [
    "That's the right answer! You are one gold star closer to rescuing Santa. [Continue to Part Two]"
   ]
  },
  {
   "cell_type": "markdown",
   "id": "170b8eb1-9f1b-4154-a9b2-73e70a0c1df1",
   "metadata": {},
   "source": [
    "--- Part Two ---\r\n",
    "During the second Go / No Go poll, the Elf in charge of the Rocket Equation Double-Checker stops the launch sequence. Apparently, you forgot to include additional fuel for the fuel you just added.\r\n",
    "\r\n",
    "Fuel itself requires fuel just like a module - take its mass, divide by three, round down, and subtract 2. However, that fuel also requires fuel, and that fuel requires fuel, and so on. Any mass that would require negative fuel should instead be treated as if it requires zero fuel; the remaining mass, if any, is instead handled by wishing really hard, which has no mass and is outside the scope of this calculation.\r\n",
    "\r\n",
    "So, for each module mass, calculate its fuel and add it to the total. Then, treat the fuel amount you just calculated as the input mass and repeat the process, continuing until a fuel requirement is zero or negative. For example:\r\n",
    "\r\n",
    "A module of mass 14 requires 2 fuel. This fuel requires no further fuel (2 divided by 3 and rounded down is 0, which would call for a negative fuel), so the total fuel required is still just 2.\r\n",
    "At first, a module of mass 1969 requires 654 fuel. Then, this fuel requires 216 more fuel (654 / 3 - 2). 216 then requires 70 more fuel, which requires 21 fuel, which requires 5 fuel, which requires no further fuel. So, the total fuel required for a module of mass 1969 is 654 + 216 + 70 + 21 + 5 = 966.\r\n",
    "The fuel required by a module of mass 100756 and its fuel is: 33583 + 11192 + 3728 + 1240 + 411 + 135 + 43 + 12 + 2 = 50346.\r\n",
    "What is the sum of the fuel requirements for all of the modules on your spacecraft when also taking into account the mass of the added fuel? (Calculate the fuel requirements for each module separately, then add them all up at the end.)"
   ]
  },
  {
   "cell_type": "code",
   "execution_count": 26,
   "id": "eb327450-79fd-4c8e-9a0b-59c844f9a63b",
   "metadata": {},
   "outputs": [],
   "source": [
    "# Functionize fuel calculation\n",
    "\n",
    "def fuel_recalc(fuel):\n",
    "    refuel = fuel\n",
    "    new_fuel = fuel\n",
    "    while refuel > 8:\n",
    "        refuel = max(0, fuel_calc(refuel))\n",
    "        new_fuel += refuel\n",
    "    return new_fuel"
   ]
  },
  {
   "cell_type": "code",
   "execution_count": 27,
   "id": "3252a191-ccf9-4d0a-b122-b75806261530",
   "metadata": {},
   "outputs": [],
   "source": [
    "# Functionize fuel-topper-offer\n",
    "\n",
    "def fuel_topper_offer(df, fuel_col='fuel', refuel_col='refuel'):\n",
    "    df[refuel_col] = df[fuel_col].apply(lambda x: fuel_recalc(x))\n",
    "    return df[refuel_col].sum()"
   ]
  },
  {
   "cell_type": "code",
   "execution_count": 28,
   "id": "319b3e5e-9fed-4041-8e86-c4034c847519",
   "metadata": {},
   "outputs": [
    {
     "data": {
      "text/html": [
       "<div>\n",
       "<style scoped>\n",
       "    .dataframe tbody tr th:only-of-type {\n",
       "        vertical-align: middle;\n",
       "    }\n",
       "\n",
       "    .dataframe tbody tr th {\n",
       "        vertical-align: top;\n",
       "    }\n",
       "\n",
       "    .dataframe thead th {\n",
       "        text-align: right;\n",
       "    }\n",
       "</style>\n",
       "<table border=\"1\" class=\"dataframe\">\n",
       "  <thead>\n",
       "    <tr style=\"text-align: right;\">\n",
       "      <th></th>\n",
       "      <th>mass</th>\n",
       "      <th>fuel</th>\n",
       "      <th>refuel</th>\n",
       "    </tr>\n",
       "  </thead>\n",
       "  <tbody>\n",
       "    <tr>\n",
       "      <th>0</th>\n",
       "      <td>88062</td>\n",
       "      <td>29352</td>\n",
       "      <td>44000</td>\n",
       "    </tr>\n",
       "    <tr>\n",
       "      <th>1</th>\n",
       "      <td>147838</td>\n",
       "      <td>49277</td>\n",
       "      <td>73885</td>\n",
       "    </tr>\n",
       "    <tr>\n",
       "      <th>2</th>\n",
       "      <td>73346</td>\n",
       "      <td>24446</td>\n",
       "      <td>36640</td>\n",
       "    </tr>\n",
       "    <tr>\n",
       "      <th>3</th>\n",
       "      <td>80732</td>\n",
       "      <td>26908</td>\n",
       "      <td>40334</td>\n",
       "    </tr>\n",
       "    <tr>\n",
       "      <th>4</th>\n",
       "      <td>89182</td>\n",
       "      <td>29725</td>\n",
       "      <td>44560</td>\n",
       "    </tr>\n",
       "  </tbody>\n",
       "</table>\n",
       "</div>"
      ],
      "text/plain": [
       "     mass   fuel  refuel\n",
       "0   88062  29352   44000\n",
       "1  147838  49277   73885\n",
       "2   73346  24446   36640\n",
       "3   80732  26908   40334\n",
       "4   89182  29725   44560"
      ]
     },
     "execution_count": 28,
     "metadata": {},
     "output_type": "execute_result"
    }
   ],
   "source": [
    "mod_refuel = fuel_topper_offer(df, fuel_col='fuel', refuel_col='refuel')\n",
    "df.head()"
   ]
  },
  {
   "cell_type": "code",
   "execution_count": 29,
   "id": "d405aeaf-d9c1-4685-8bf4-b7e741392a6a",
   "metadata": {},
   "outputs": [
    {
     "data": {
      "text/plain": [
       "5017110"
      ]
     },
     "execution_count": 29,
     "metadata": {},
     "output_type": "execute_result"
    }
   ],
   "source": [
    "mod_refuel"
   ]
  },
  {
   "cell_type": "markdown",
   "id": "2ecb974d-414c-4405-bfb4-88b110bb023e",
   "metadata": {},
   "source": [
    "That's the right answer! You are one gold star closer to rescuing Santa.\r\n",
    "\r\n",
    "You have completed Day 1! You can [Share] this victory or [Return to Your Advent Calendar]."
   ]
  }
 ],
 "metadata": {
  "kernelspec": {
   "display_name": "Python 3 (ipykernel)",
   "language": "python",
   "name": "python3"
  },
  "language_info": {
   "codemirror_mode": {
    "name": "ipython",
    "version": 3
   },
   "file_extension": ".py",
   "mimetype": "text/x-python",
   "name": "python",
   "nbconvert_exporter": "python",
   "pygments_lexer": "ipython3",
   "version": "3.10.10"
  }
 },
 "nbformat": 4,
 "nbformat_minor": 5
}
